{
 "cells": [
  {
   "cell_type": "code",
   "execution_count": 1,
   "id": "651909e3",
   "metadata": {},
   "outputs": [
    {
     "name": "stdout",
     "output_type": "stream",
     "text": [
      "\n",
      "All Done! Bye, for now.\n",
      "\n",
      "I just imported 12 columns and 167 rows to MySQL!\n"
     ]
    }
   ],
   "source": [
    "import xlrd\n",
    "import MySQLdb\n",
    "\n",
    "# Open the workbook and define the worksheet\n",
    "loc = (\"C:\\\\Users\\\\amisk\\\\Desktop\\\\Postmonsoon.xls\")\n",
    "book = xlrd.open_workbook(loc)\n",
    "sheet = book.sheet_by_name(\"Sheet1\")\n",
    "\n",
    "# Establish a MySQL connection\n",
    "database = MySQLdb.connect (host=\"localhost\", user = \"root\", passwd = \"\", db = \"gwdet\")\n",
    "\n",
    "# Get the cursor, which is used to traverse the database, line by line\n",
    "cursor = database.cursor()\n",
    "\n",
    "# Create the INSERT INTO sql query\n",
    "query = \"\"\"INSERT INTO pm (id, Season, Longitude, Latitude, Temp, WD, ARSE, MN, FE, CA, GWQI, GWQC) \n",
    "            VALUES (NULL, %s, %s, %s, %s, %s, %s, %s, %s, %s, %s, %s)\"\"\"\n",
    "\n",
    "# Create a For loop to iterate through each row in the XLS file, starting at row 2 to skip the headers\n",
    "for r in range(1, sheet.nrows):\n",
    "    #id= sheet.cell(r,).value\n",
    "    Season= sheet.cell(r,1).value\n",
    "    Longitude= sheet.cell(r,2).value\n",
    "    Latitude= sheet.cell(r,3).value\n",
    "    Temp= sheet.cell(r,4).value\n",
    "    WD= sheet.cell(r,5).value\n",
    "    ARSE= sheet.cell(r,6).value\n",
    "    MN= sheet.cell(r,7).value\n",
    "    FE= sheet.cell(r,8).value\n",
    "    CA= sheet.cell(r,9).value\n",
    "    GWQI= sheet.cell(r,10).value\n",
    "    GWQC= sheet.cell(r,11).value\n",
    "\n",
    "    # Assign values from each row\n",
    "    values = (Season, Longitude, Latitude, Temp, WD, ARSE, MN, FE, CA, GWQI, GWQC)\n",
    "\n",
    "    #Execute sql Query\n",
    "    cursor.execute(query, values)\n",
    "\n",
    "# Close the cursor\n",
    "cursor.close()\n",
    "\n",
    "# Commit the transaction\n",
    "database.commit()\n",
    "\n",
    "# Close the database connection\n",
    "database.close()\n",
    "\n",
    "# Print results\n",
    "print (\"\\nAll Done! Bye, for now.\\n\")\n",
    "columns = str(sheet.ncols)\n",
    "rows = str(sheet.nrows)\n",
    "print (\"I just imported \"+columns+\" columns and \"+rows+\" rows to MySQL!\")"
   ]
  },
  {
   "cell_type": "code",
   "execution_count": null,
   "id": "4cf309f0",
   "metadata": {},
   "outputs": [],
   "source": [
    "if file_format and file_format != 'xls':\n",
    "raise XLRDError(FILE_FORMAT_DESCRIPTIONS[file_format]+'; not supported')"
   ]
  },
  {
   "cell_type": "code",
   "execution_count": 1,
   "id": "0d4498d5",
   "metadata": {},
   "outputs": [
    {
     "name": "stdout",
     "output_type": "stream",
     "text": [
      "NO OF ROWS AND COLUMN IN DATASET  (163, 25) \n",
      "\n",
      "AFTER READING DATASET \n",
      "    SL. For reference  Year  Season Nest Code Well Code  \\\n",
      "0                  1  2009       0        N3        P1   \n",
      "1                  3  2010       0        N3        P1   \n",
      "2                  5  2011       0        N3        P1   \n",
      "3                  7  2009       0        N3        P2   \n",
      "4                  9  2010       0        N3        P2   \n",
      "\n",
      "  Depth and Color (to be used in plot and analysis)  \\\n",
      "0                                   Shallow - Black   \n",
      "1                                              Deep   \n",
      "2                                   Shallow - Black   \n",
      "3                                   Shallow - White   \n",
      "4                                      Intermediate   \n",
      "\n",
      "  COLOR assigned (FOUR Color) FINAL 2013       Lat       Lon  Temp  ...  \\\n",
      "0                                  BLACK  23.32567  90.70171  26.7  ...   \n",
      "1                              OFF-WHITE  23.32567  90.70171  27.0  ...   \n",
      "2                                  BLACK  23.32567  90.70171  28.1  ...   \n",
      "3                                  WHITE  23.32567  90.70171  26.4  ...   \n",
      "4                                  WHITE  23.32567  90.70171  26.6  ...   \n",
      "\n",
      "       Fe        Ca     Q1  Q2        Q3           Q4           Q5         Q9  \\\n",
      "0  3.9103  153.3078  232.5  40  4523.784  1309.508667  1303.416933  76.653875   \n",
      "1  4.4859  146.1369  207.5 -60  4220.694  1243.708000  1495.304667  73.068435   \n",
      "2  3.3528  127.6802  240.0   8  4307.686  1059.895000  1117.584667  63.840100   \n",
      "3  9.0259   79.1177  275.0   0  2275.254   726.574646  3008.634778  39.558867   \n",
      "4  9.8024  103.3628  250.0 -40  2659.830   624.837400  3267.479333  51.681400   \n",
      "\n",
      "      GWQI             GWQC  \n",
      "0  1318.57  Not Sustainable  \n",
      "1  1313.99  Not Sustainable  \n",
      "2  1087.14  Not Sustainable  \n",
      "3  1290.90  Not Sustainable  \n",
      "4  1281.96  Not Sustainable  \n",
      "\n",
      "[5 rows x 25 columns]\n"
     ]
    }
   ],
   "source": [
    "import pandas as pd\n",
    "#data = pd.read_excel('GW-Predicting/Data/Premonsoon.xlsx')\n",
    "data = pd.read_csv('GW-Predicting/Data/Premonsoon.csv')\n",
    "print('NO OF ROWS AND COLUMN IN DATASET ', data.shape,'\\n')\n",
    "print('AFTER READING DATASET','\\n',data.head())"
   ]
  },
  {
   "cell_type": "code",
   "execution_count": 2,
   "id": "73ea1c59",
   "metadata": {},
   "outputs": [
    {
     "data": {
      "text/plain": [
       "Year        int64\n",
       "Season      int64\n",
       "Lat       float64\n",
       "Lon       float64\n",
       "Temp      float64\n",
       "WD        float64\n",
       "EC          int64\n",
       "As        float64\n",
       "Mn        float64\n",
       "Fe        float64\n",
       "Ca        float64\n",
       "GWQI      float64\n",
       "GWQC       object\n",
       "dtype: object"
      ]
     },
     "metadata": {},
     "output_type": "display_data"
    }
   ],
   "source": [
    "data.drop([\"SL. For reference\",\"Nest Code\",\"Well Code\",\"Depth and Color (to be used in plot and analysis)\",\n",
    "           \"COLOR assigned (FOUR Color) FINAL 2013\",\"pH\",\"Q1\",\"Q2\",\"Q3\",\"Q4\",\"Q5\",\"Q9\"],axis=1,inplace=True)\n",
    "display(data.dtypes)"
   ]
  },
  {
   "cell_type": "code",
   "execution_count": 3,
   "id": "0438345a",
   "metadata": {},
   "outputs": [],
   "source": [
    "data['Temp']=data['Temp'].round(decimals=2)\n",
    "data['WD']=data['WD'].round(decimals=2)\n",
    "data['EC']=data['EC'].round(decimals=2)\n",
    "data['As']=data['As'].round(decimals=2)\n",
    "data['Mn']=data['Mn'].round(decimals=2)\n",
    "data['Fe']=data['Fe'].round(decimals=2)\n",
    "data['Ca']=data['Ca'].round(decimals=2)\n",
    "data['GWQI']=data['GWQI'].round(decimals=2)"
   ]
  },
  {
   "cell_type": "code",
   "execution_count": 4,
   "id": "370594a2",
   "metadata": {},
   "outputs": [
    {
     "name": "stdout",
     "output_type": "stream",
     "text": [
      "     Year  Season       Lat       Lon  Temp      WD    EC      As    Mn    Fe  \\\n",
      "0    2009       0  23.32567  90.70171  26.7   53.34   930  452.38  1.31  3.91   \n",
      "1    2010       0  23.32567  90.70171  27.0  231.64   830  422.07  1.24  4.49   \n",
      "2    2011       0  23.32567  90.70171  28.1   53.34   960  430.77  1.06  3.35   \n",
      "3    2009       0  23.32567  90.70171  26.4   74.67  1100  227.53  0.73  9.03   \n",
      "4    2010       0  23.32567  90.70171  26.6  102.13  1000  265.98  0.62  9.80   \n",
      "..    ...     ...       ...       ...   ...     ...   ...     ...   ...   ...   \n",
      "158  2011       0  23.33148  90.80419  26.6   25.91  1026  355.96  0.03  1.48   \n",
      "159  2010       0  23.33148  90.80419  27.1   13.72  1573   50.43  0.18  1.96   \n",
      "160  2010       0  23.33148  90.80419  26.3   25.91  1120    7.00  0.19  3.43   \n",
      "161  2011       0  23.33148  90.80419  26.6   25.91  1238    5.60  0.15  2.93   \n",
      "162  2011       0  23.33148  90.80419  26.9   53.34  1126    5.60  0.22  4.81   \n",
      "\n",
      "         Ca     GWQI             GWQC  \n",
      "0    153.31  1318.57  Not Sustainable  \n",
      "1    146.14  1313.99  Not Sustainable  \n",
      "2    127.68  1087.14  Not Sustainable  \n",
      "3     79.12  1290.90  Not Sustainable  \n",
      "4    103.36  1281.96  Not Sustainable  \n",
      "..      ...      ...              ...  \n",
      "158   20.67   170.44             Poor  \n",
      "159   60.78   294.78        Very Poor  \n",
      "160   86.70   418.84  Not Sustainable  \n",
      "161   58.03   346.95  Not Sustainable  \n",
      "162   42.06   555.59  Not Sustainable  \n",
      "\n",
      "[163 rows x 13 columns]\n"
     ]
    }
   ],
   "source": [
    "print(data)"
   ]
  },
  {
   "cell_type": "code",
   "execution_count": 5,
   "id": "a167d603",
   "metadata": {},
   "outputs": [
    {
     "name": "stderr",
     "output_type": "stream",
     "text": [
      "C:\\Users\\amisk\\AppData\\Local\\Temp/ipykernel_15900/1839537149.py:1: FutureWarning: As the xlwt package is no longer maintained, the xlwt engine will be removed in a future version of pandas. This is the only engine in pandas that supports writing in the xls format. Install openpyxl and write to an xlsx file instead. You can set the option io.excel.xls.writer to 'xlwt' to silence this warning. While this option is deprecated and will also raise a warning, it can be globally set and the warning suppressed.\n",
      "  data.to_excel(\"uploads/Premon.xls\",sheet_name='Sheet1')\n"
     ]
    }
   ],
   "source": [
    "data.to_excel(\"uploads/Premon.xls\",sheet_name='Sheet1') "
   ]
  },
  {
   "cell_type": "code",
   "execution_count": 2,
   "id": "249d1c7d",
   "metadata": {},
   "outputs": [
    {
     "name": "stdout",
     "output_type": "stream",
     "text": [
      "NO OF ROWS AND COLUMN IN DATASET  (166, 37) \n",
      "\n",
      "AFTER READING DATASET \n",
      "    Unnamed: 0     SamplingPeriod  Year        Season ProjectCode NestCode  \\\n",
      "0           1  2009 POST-Monsoon  2009  POST-Monsoon      SASMIT       N3   \n",
      "1           2  2010 POST-Monsoon  2010  POST-Monsoon      SASMIT       N3   \n",
      "2           3  2011 POST-Monsoon  2011  POST-Monsoon      SASMIT       N3   \n",
      "3           4  2009 POST-Monsoon  2009  POST-Monsoon      SASMIT       N3   \n",
      "4           5  2010 POST-Monsoon  2010  POST-Monsoon      SASMIT       N3   \n",
      "\n",
      "  WellCode    DepthandColor  Color       Lat  ...          Q4           Q5  \\\n",
      "0       P1  Shallow - Black  BLACK  23.32567  ...  297.868500  1301.894667   \n",
      "1       P1  Shallow - Black  BLACK  23.32567  ...  316.042000  1316.593000   \n",
      "2       P1  Shallow - Black  BLACK  23.32567  ...  303.501250  1285.707667   \n",
      "3       P2  Shallow - Black  BLACK  23.32567  ...  169.069325  2673.770667   \n",
      "4       P2  Shallow - Black  BLACK  23.32567  ...  155.477200  3084.654333   \n",
      "\n",
      "          Q6        Q7        Q8        Q9         Q10       Q11     GWQI  \\\n",
      "0  12.594183  0.237736  45.74108  78.96395   86.621333  52.78230   887.27   \n",
      "1   8.008800  0.091200  54.70780  66.13175   91.934167  48.85414   907.12   \n",
      "2  23.609760  0.539600  37.39095  79.75250   98.887600  61.45719   883.40   \n",
      "3  80.399609  0.199198  62.49024  51.59800  101.466900  72.87123  1542.78   \n",
      "4  73.194000  0.079461  82.00108  44.31469  108.894633  63.71794  1760.50   \n",
      "\n",
      "              GWQC  \n",
      "0  Not Sustainable  \n",
      "1  Not Sustainable  \n",
      "2  Not Sustainable  \n",
      "3  Not Sustainable  \n",
      "4  Not Sustainable  \n",
      "\n",
      "[5 rows x 37 columns]\n"
     ]
    }
   ],
   "source": [
    "import pandas as pd\n",
    "data = pd.read_excel('C:/Users/amisk/Desktop/GW-ALL Files/Main Datas/PostMonsoon-All.xls')\n",
    "#data = pd.read_csv('GW-Predicting/Data/Premonsoon.csv')\n",
    "print('NO OF ROWS AND COLUMN IN DATASET ', data.shape,'\\n')\n",
    "print('AFTER READING DATASET','\\n',data.head())"
   ]
  },
  {
   "cell_type": "code",
   "execution_count": 3,
   "id": "bbf96d0e",
   "metadata": {},
   "outputs": [
    {
     "name": "stderr",
     "output_type": "stream",
     "text": [
      "C:\\Users\\amisk\\AppData\\Local\\Temp/ipykernel_2676/1556663476.py:1: FutureWarning: As the xlwt package is no longer maintained, the xlwt engine will be removed in a future version of pandas. This is the only engine in pandas that supports writing in the xls format. Install openpyxl and write to an xlsx file instead. You can set the option io.excel.xls.writer to 'xlwt' to silence this warning. While this option is deprecated and will also raise a warning, it can be globally set and the warning suppressed.\n",
      "  data.to_excel(\"uploads/postmonsoonall.xls\",sheet_name='Sheet1')\n"
     ]
    }
   ],
   "source": [
    "data.to_excel(\"uploads/postmonsoonall.xls\",sheet_name='Sheet1') "
   ]
  },
  {
   "cell_type": "code",
   "execution_count": null,
   "id": "40d18513",
   "metadata": {},
   "outputs": [],
   "source": []
  }
 ],
 "metadata": {
  "kernelspec": {
   "display_name": "Python 3 (ipykernel)",
   "language": "python",
   "name": "python3"
  },
  "language_info": {
   "codemirror_mode": {
    "name": "ipython",
    "version": 3
   },
   "file_extension": ".py",
   "mimetype": "text/x-python",
   "name": "python",
   "nbconvert_exporter": "python",
   "pygments_lexer": "ipython3",
   "version": "3.9.7"
  }
 },
 "nbformat": 4,
 "nbformat_minor": 5
}
