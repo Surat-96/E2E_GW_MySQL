{
 "cells": [
  {
   "cell_type": "code",
   "execution_count": 1,
   "id": "651909e3",
   "metadata": {},
   "outputs": [
    {
     "name": "stdout",
     "output_type": "stream",
     "text": [
      "\n",
      "All Done! Bye, for now.\n",
      "\n",
      "I just imported 12 columns and 167 rows to MySQL!\n"
     ]
    }
   ],
   "source": [
    "import xlrd\n",
    "import MySQLdb\n",
    "\n",
    "# Open the workbook and define the worksheet\n",
    "loc = (\"C:\\\\Users\\\\amisk\\\\Desktop\\\\Postmonsoon.xls\")\n",
    "book = xlrd.open_workbook(loc)\n",
    "sheet = book.sheet_by_name(\"Sheet1\")\n",
    "\n",
    "# Establish a MySQL connection\n",
    "database = MySQLdb.connect (host=\"localhost\", user = \"root\", passwd = \"\", db = \"gwdet\")\n",
    "\n",
    "# Get the cursor, which is used to traverse the database, line by line\n",
    "cursor = database.cursor()\n",
    "\n",
    "# Create the INSERT INTO sql query\n",
    "query = \"\"\"INSERT INTO pm (id, Season, Longitude, Latitude, Temp, WD, ARSE, MN, FE, CA, GWQI, GWQC) \n",
    "            VALUES (NULL, %s, %s, %s, %s, %s, %s, %s, %s, %s, %s, %s)\"\"\"\n",
    "\n",
    "# Create a For loop to iterate through each row in the XLS file, starting at row 2 to skip the headers\n",
    "for r in range(1, sheet.nrows):\n",
    "    #id= sheet.cell(r,).value\n",
    "    Season= sheet.cell(r,1).value\n",
    "    Longitude= sheet.cell(r,2).value\n",
    "    Latitude= sheet.cell(r,3).value\n",
    "    Temp= sheet.cell(r,4).value\n",
    "    WD= sheet.cell(r,5).value\n",
    "    ARSE= sheet.cell(r,6).value\n",
    "    MN= sheet.cell(r,7).value\n",
    "    FE= sheet.cell(r,8).value\n",
    "    CA= sheet.cell(r,9).value\n",
    "    GWQI= sheet.cell(r,10).value\n",
    "    GWQC= sheet.cell(r,11).value\n",
    "\n",
    "    # Assign values from each row\n",
    "    values = (Season, Longitude, Latitude, Temp, WD, ARSE, MN, FE, CA, GWQI, GWQC)\n",
    "\n",
    "    #Execute sql Query\n",
    "    cursor.execute(query, values)\n",
    "\n",
    "# Close the cursor\n",
    "cursor.close()\n",
    "\n",
    "# Commit the transaction\n",
    "database.commit()\n",
    "\n",
    "# Close the database connection\n",
    "database.close()\n",
    "\n",
    "# Print results\n",
    "print (\"\\nAll Done! Bye, for now.\\n\")\n",
    "columns = str(sheet.ncols)\n",
    "rows = str(sheet.nrows)\n",
    "print (\"I just imported \"+columns+\" columns and \"+rows+\" rows to MySQL!\")"
   ]
  },
  {
   "cell_type": "code",
   "execution_count": null,
   "id": "4cf309f0",
   "metadata": {},
   "outputs": [],
   "source": [
    "if file_format and file_format != 'xls':\n",
    "raise XLRDError(FILE_FORMAT_DESCRIPTIONS[file_format]+'; not supported')"
   ]
  },
  {
   "cell_type": "code",
   "execution_count": 1,
   "id": "0d4498d5",
   "metadata": {},
   "outputs": [
    {
     "name": "stdout",
     "output_type": "stream",
     "text": [
      "NO OF ROWS AND COLUMN IN DATASET  (166, 25) \n",
      "\n",
      "AFTER READING DATASET \n",
      "    SL. For reference  Year  Season Nest Code Well Code  \\\n",
      "0                  2  2009       1        N3        P1   \n",
      "1                  4  2010       1        N3        P1   \n",
      "2                  6  2011       1        N3        P1   \n",
      "3                  8  2009       1        N3        P2   \n",
      "4                 10  2010       1        N3        P2   \n",
      "\n",
      "  Depth and Color (to be used in plot and analysis)  \\\n",
      "0                                   Shallow - Black   \n",
      "1                                   Shallow - Black   \n",
      "2                                   Shallow - Black   \n",
      "3                                   Shallow - Black   \n",
      "4                                   Shallow - Black   \n",
      "\n",
      "  COLOR assigned (FOUR Color) FINAL 2013       Lat       Lon  Temp  ...  \\\n",
      "0                                  BLACK  23.32567  90.70171  26.8  ...   \n",
      "1                                  BLACK  23.32567  90.70171  26.8  ...   \n",
      "2                                  BLACK  23.32567  90.70171  26.5  ...   \n",
      "3                                  BLACK  23.32567  90.70171  27.8  ...   \n",
      "4                                  BLACK  23.32567  90.70171  26.6  ...   \n",
      "\n",
      "       Fe        Ca     Q1  Q2        Q3          Q4           Q5        Q9  \\\n",
      "0  3.9057  157.9279  240.0   8  4244.189  297.868500  1301.894667  78.96395   \n",
      "1  3.9498  132.2635  195.5  40  4495.865  316.042000  1316.593000  66.13175   \n",
      "2  3.8571  159.5050  244.5 -80  4506.501  303.501250  1285.707667  79.75250   \n",
      "3  8.0213  103.1960  287.5 -24  2525.309  169.069325  2673.770667  51.59800   \n",
      "4  9.2540   88.6294  245.0 -40  2740.850  155.477200  3084.654333  44.31469   \n",
      "\n",
      "      GWQI             GWQC  \n",
      "0   907.25  Not Sustainable  \n",
      "1   927.61  Not Sustainable  \n",
      "2   903.08  Not Sustainable  \n",
      "3  1578.08  Not Sustainable  \n",
      "4  1801.15  Not Sustainable  \n",
      "\n",
      "[5 rows x 25 columns]\n"
     ]
    }
   ],
   "source": [
    "import pandas as pd\n",
    "#data = pd.read_excel('GW-Predicting/Data/Premonsoon.xlsx')\n",
    "data = pd.read_csv('GW-Predicting/Data/Postmonsoon.csv')\n",
    "print('NO OF ROWS AND COLUMN IN DATASET ', data.shape,'\\n')\n",
    "print('AFTER READING DATASET','\\n',data.head())"
   ]
  },
  {
   "cell_type": "code",
   "execution_count": 2,
   "id": "73ea1c59",
   "metadata": {},
   "outputs": [
    {
     "data": {
      "text/plain": [
       "Year        int64\n",
       "Season      int64\n",
       "Lat       float64\n",
       "Lon       float64\n",
       "Temp      float64\n",
       "WD        float64\n",
       "EC          int64\n",
       "As        float64\n",
       "Mn        float64\n",
       "Fe        float64\n",
       "Ca        float64\n",
       "GWQI      float64\n",
       "GWQC       object\n",
       "dtype: object"
      ]
     },
     "metadata": {},
     "output_type": "display_data"
    }
   ],
   "source": [
    "data.drop([\"SL. For reference\",\"Nest Code\",\"Well Code\",\"Depth and Color (to be used in plot and analysis)\",\n",
    "           \"COLOR assigned (FOUR Color) FINAL 2013\",\"pH\",\"Q1\",\"Q2\",\"Q3\",\"Q4\",\"Q5\",\"Q9\"],axis=1,inplace=True)\n",
    "display(data.dtypes)"
   ]
  },
  {
   "cell_type": "code",
   "execution_count": 3,
   "id": "0438345a",
   "metadata": {},
   "outputs": [],
   "source": [
    "data['Temp']=data['Temp'].round(decimals=2)\n",
    "data['WD']=data['WD'].round(decimals=2)\n",
    "data['EC']=data['EC'].round(decimals=2)\n",
    "data['As']=data['As'].round(decimals=2)\n",
    "data['Mn']=data['Mn'].round(decimals=2)\n",
    "data['Fe']=data['Fe'].round(decimals=2)\n",
    "data['Ca']=data['Ca'].round(decimals=2)\n",
    "data['GWQI']=data['GWQI'].round(decimals=2)"
   ]
  },
  {
   "cell_type": "code",
   "execution_count": 4,
   "id": "370594a2",
   "metadata": {},
   "outputs": [
    {
     "name": "stdout",
     "output_type": "stream",
     "text": [
      "     Year  Season       Lat       Lon  Temp      WD    EC      As    Mn    Fe  \\\n",
      "0    2009       1  23.32567  90.70171  26.8   16.76   960  424.42  1.19  3.91   \n",
      "1    2010       1  23.32567  90.70171  26.8   16.76   782  449.59  1.26  3.95   \n",
      "2    2011       1  23.32567  90.70171  26.5   16.76   978  450.65  1.21  3.86   \n",
      "3    2009       1  23.32567  90.70171  27.8   28.95  1150  252.53  0.68  8.02   \n",
      "4    2010       1  23.32567  90.70171  26.6   28.95   980  274.08  0.62  9.25   \n",
      "..    ...     ...       ...       ...   ...     ...   ...     ...   ...   ...   \n",
      "161  2011       1  23.33148  90.80419  26.1   33.54  1241  358.59  0.04  1.51   \n",
      "162  2010       1  23.33148  90.80419  26.5   57.93  1808   38.02  0.05  1.76   \n",
      "163  2010       1  23.33148  90.80419  26.4  230.49  1213    5.60  0.15  3.54   \n",
      "164  2011       1  23.33148  90.80419  26.3  230.49  1311    5.60  0.16  3.82   \n",
      "165  2011       1  23.33148  90.80419  26.6  109.76  1290    5.60  0.10  3.77   \n",
      "\n",
      "         Ca     GWQI             GWQC  \n",
      "0    157.93   907.25  Not Sustainable  \n",
      "1    132.26   927.61  Not Sustainable  \n",
      "2    159.50   903.08  Not Sustainable  \n",
      "3    103.20  1578.08  Not Sustainable  \n",
      "4     88.63  1801.15  Not Sustainable  \n",
      "..      ...      ...              ...  \n",
      "161   25.80   339.71  Not Sustainable  \n",
      "162   55.64   334.23  Not Sustainable  \n",
      "163   67.35   661.40  Not Sustainable  \n",
      "164   69.81   714.33  Not Sustainable  \n",
      "165   49.78   698.49  Not Sustainable  \n",
      "\n",
      "[166 rows x 13 columns]\n"
     ]
    }
   ],
   "source": [
    "print(data)"
   ]
  },
  {
   "cell_type": "code",
   "execution_count": 5,
   "id": "a167d603",
   "metadata": {},
   "outputs": [
    {
     "name": "stderr",
     "output_type": "stream",
     "text": [
      "C:\\Users\\amisk\\AppData\\Local\\Temp/ipykernel_2564/3349498383.py:1: FutureWarning: As the xlwt package is no longer maintained, the xlwt engine will be removed in a future version of pandas. This is the only engine in pandas that supports writing in the xls format. Install openpyxl and write to an xlsx file instead. You can set the option io.excel.xls.writer to 'xlwt' to silence this warning. While this option is deprecated and will also raise a warning, it can be globally set and the warning suppressed.\n",
      "  data.to_excel(\"uploads/Postmon.xls\",sheet_name='Sheet1')\n"
     ]
    }
   ],
   "source": [
    "data.to_excel(\"uploads/Postmon.xls\",sheet_name='Sheet1') "
   ]
  }
 ],
 "metadata": {
  "kernelspec": {
   "display_name": "Python 3 (ipykernel)",
   "language": "python",
   "name": "python3"
  },
  "language_info": {
   "codemirror_mode": {
    "name": "ipython",
    "version": 3
   },
   "file_extension": ".py",
   "mimetype": "text/x-python",
   "name": "python",
   "nbconvert_exporter": "python",
   "pygments_lexer": "ipython3",
   "version": "3.9.7"
  }
 },
 "nbformat": 4,
 "nbformat_minor": 5
}
